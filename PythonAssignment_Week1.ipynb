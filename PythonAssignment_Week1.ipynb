{
  "cells": [
    {
      "cell_type": "markdown",
      "metadata": {
        "id": "view-in-github",
        "colab_type": "text"
      },
      "source": [
        "<a href=\"https://colab.research.google.com/github/Revanth225/assessment/blob/main/PythonAssignment_Week1.ipynb\" target=\"_parent\"><img src=\"https://colab.research.google.com/assets/colab-badge.svg\" alt=\"Open In Colab\"/></a>"
      ]
    },
    {
      "metadata": {
        "id": "6tgxENnLvLH7"
      },
      "cell_type": "markdown",
      "source": [
        "# Assignment - Python Basics Practice\n",
        "\n",
        "\n"
      ]
    },
    {
      "metadata": {
        "id": "1VqMdyiivLH-"
      },
      "cell_type": "markdown",
      "source": [
        "## Variables and Data Types\n",
        "\n",
        "**Q: Assign your name to the variable `name`.**"
      ]
    },
    {
      "cell_type": "code",
      "source": [],
      "metadata": {
        "id": "vPcSOnrtp6eO"
      },
      "execution_count": 182,
      "outputs": []
    },
    {
      "metadata": {
        "trusted": true,
        "id": "yVIYuDDMvLH-",
        "colab": {
          "base_uri": "https://localhost:8080/"
        },
        "outputId": "1809ce71-113f-4512-d15f-dea4926220ab"
      },
      "cell_type": "code",
      "source": [
        "name=input(\"enter your name\")\n",
        "print(name)"
      ],
      "execution_count": 182,
      "outputs": [
        {
          "output_type": "stream",
          "name": "stdout",
          "text": [
            "enter your namevinnu\n",
            "vinnu\n"
          ]
        }
      ]
    },
    {
      "metadata": {
        "id": "QeK-QA7GvLH-"
      },
      "cell_type": "markdown",
      "source": [
        "**Q: Assign your age (real or fake) to the variable `age`.**"
      ]
    },
    {
      "metadata": {
        "trusted": true,
        "id": "axuBC-y6vLH_",
        "colab": {
          "base_uri": "https://localhost:8080/"
        },
        "outputId": "c127e2ab-95d0-4740-8460-26d84195c0d4"
      },
      "cell_type": "code",
      "source": [
        "age=int(input(\"enter your age\"))\n",
        "print(age,\"real or fake\")"
      ],
      "execution_count": 31,
      "outputs": [
        {
          "output_type": "stream",
          "name": "stdout",
          "text": [
            "enter your age25\n",
            "25 real or fake\n"
          ]
        }
      ]
    },
    {
      "metadata": {
        "id": "okMEWXHwvLH_"
      },
      "cell_type": "markdown",
      "source": [
        "**Q: Assign a boolean value to the variable `has_android_phone`.**"
      ]
    },
    {
      "cell_type": "code",
      "source": [],
      "metadata": {
        "id": "QcrG5tubFSCi"
      },
      "execution_count": null,
      "outputs": []
    },
    {
      "metadata": {
        "trusted": true,
        "id": "Y6HA_IVGvLH_",
        "colab": {
          "base_uri": "https://localhost:8080/"
        },
        "outputId": "5d71e55e-e087-404f-953f-a3a527645acb"
      },
      "cell_type": "code",
      "source": [
        "has_anroid_phone= input(\"your have an anroid phone?(yes/no)\").strip().lower()==\"yes\"\n",
        "if has_anroid_phone:\n",
        "  print(\"your are an anroid phone\")\n",
        "else:\n",
        "  print(\"your are not an anroid user\")"
      ],
      "execution_count": 30,
      "outputs": [
        {
          "output_type": "stream",
          "name": "stdout",
          "text": [
            "your have an anroid phone?(yes/no)no\n",
            "your are not an anroid user\n"
          ]
        }
      ]
    },
    {
      "metadata": {
        "id": "QfC_6aXfvLIA"
      },
      "cell_type": "markdown",
      "source": [
        "**Q: Create a dictionary `person` with keys `\"Name\"`, `\"Age\"`, `\"HasAndroidPhone\"` and values using the variables defined above.**"
      ]
    },
    {
      "metadata": {
        "trusted": true,
        "id": "VdNLm3L5vLIA",
        "colab": {
          "base_uri": "https://localhost:8080/"
        },
        "outputId": "76bbb52c-3143-4ae9-8e50-3137e40824ec"
      },
      "cell_type": "code",
      "source": [
        "person ={\"name\":\"vinnu\",\"age\":\"20\",\"has_anroid_phone\":\"yes\"}\n",
        "print(person)\n"
      ],
      "execution_count": 29,
      "outputs": [
        {
          "output_type": "stream",
          "name": "stdout",
          "text": [
            "{'name': 'vinnu', 'age': '20', 'has_anroid_phone': 'yes'}\n"
          ]
        }
      ]
    },
    {
      "metadata": {
        "id": "ytlWYVM7vLIA"
      },
      "cell_type": "markdown",
      "source": [
        "Let's use the `person` dictionary to print a nice message."
      ]
    },
    {
      "metadata": {
        "trusted": true,
        "id": "r5sq7VvevLIA",
        "colab": {
          "base_uri": "https://localhost:8080/"
        },
        "outputId": "445da440-a6b8-4ba3-885c-70d727e9b0b9"
      },
      "cell_type": "code",
      "source": [
        "print(\"welcome to bayes lab this are youe details\",person)"
      ],
      "execution_count": 34,
      "outputs": [
        {
          "output_type": "stream",
          "name": "stdout",
          "text": [
            "welcome to bayes lab this are youe details has_anroid_phone\n"
          ]
        }
      ]
    },
    {
      "cell_type": "code",
      "source": [
        "person ={\"name\":\"vinnu\",\"age\":\"20\",\"has_anroid_phone\":\"yes\"}\n",
        "for type in person:\n",
        "  print(type)"
      ],
      "metadata": {
        "colab": {
          "base_uri": "https://localhost:8080/"
        },
        "id": "4dlyhp4hH_pT",
        "outputId": "bba74602-b956-4b21-ecc5-36a47faae823"
      },
      "execution_count": 48,
      "outputs": [
        {
          "output_type": "stream",
          "name": "stdout",
          "text": [
            "name\n",
            "age\n",
            "has_anroid_phone\n"
          ]
        }
      ]
    },
    {
      "metadata": {
        "id": "HyQ9W2bGvLIB"
      },
      "cell_type": "markdown",
      "source": [
        "Use a `for` loop to display the `type` of each value stored against each key in `person`.**\n",
        "\n",
        "Here's the expected output for the key `\"Name\"`:\n",
        "\n",
        "```\n",
        "The key \"Name\" has the value \"Derek\" of the type \"<class 'str'>\"\n",
        "```"
      ]
    },
    {
      "metadata": {
        "id": "L5VT5-3yvLIB"
      },
      "cell_type": "markdown",
      "source": [
        "## Working with Lists\n",
        "\n",
        "**Q: Create a list containing the following 3 elements:**\n",
        "\n",
        "* your favorite color\n",
        "* the number of pets you have\n",
        "* a boolean value describing whether you have previous programming experience\n"
      ]
    },
    {
      "metadata": {
        "trusted": true,
        "id": "KKXeilefvLIB",
        "colab": {
          "base_uri": "https://localhost:8080/"
        },
        "outputId": "033e79e4-b2f7-4ea6-eef7-4dd027afb66f"
      },
      "cell_type": "code",
      "source": [
        "my_list=(input(\"what is your favorite colour\")),(input(\"how many pets do you have\")),(input(\"do you have previous programming experience?(yes/no)\"))\n",
        "print(my_list)"
      ],
      "execution_count": 52,
      "outputs": [
        {
          "output_type": "stream",
          "name": "stdout",
          "text": [
            "what is your favorite colourwhite\n",
            "how many pets do you have5\n",
            "do you have previous programming experience?(yes/no)no\n",
            "('white', '5', 'no')\n"
          ]
        }
      ]
    },
    {
      "metadata": {
        "id": "qPMwq-6RvLIB"
      },
      "cell_type": "markdown",
      "source": [
        "Let's see what the list looks like:"
      ]
    },
    {
      "metadata": {
        "trusted": true,
        "id": "o8NZIpdVvLIB"
      },
      "cell_type": "code",
      "source": [],
      "execution_count": null,
      "outputs": []
    },
    {
      "metadata": {
        "id": "5yhV9OtPvLIB"
      },
      "cell_type": "markdown",
      "source": [
        "**Q: Complete the following `print` and `if` statements by accessing the appropriate elements from `my_list`.**\n",
        "\n",
        "*Hint*: Use the list indexing notation `[]`."
      ]
    },
    {
      "metadata": {
        "trusted": true,
        "id": "xkkR9UObvLIB",
        "colab": {
          "base_uri": "https://localhost:8080/"
        },
        "outputId": "8e8ffaa2-370d-43f2-ac73-f62670ee62a2"
      },
      "cell_type": "code",
      "source": [
        "print(\"My favorite color is\",my_list[0])"
      ],
      "execution_count": 54,
      "outputs": [
        {
          "output_type": "stream",
          "name": "stdout",
          "text": [
            "My favorite color is white\n"
          ]
        }
      ]
    },
    {
      "metadata": {
        "trusted": true,
        "id": "wS04XOMqvLIB",
        "colab": {
          "base_uri": "https://localhost:8080/"
        },
        "outputId": "b3267538-fff8-456d-d02a-0d9f40f08f08"
      },
      "cell_type": "code",
      "source": [
        "print(\"how many pets do you have\",my_list[1])\n"
      ],
      "execution_count": 55,
      "outputs": [
        {
          "output_type": "stream",
          "name": "stdout",
          "text": [
            "how many pets do you have 5\n"
          ]
        }
      ]
    },
    {
      "metadata": {
        "trusted": true,
        "id": "oj9kdoAUvLIB",
        "colab": {
          "base_uri": "https://localhost:8080/"
        },
        "outputId": "4a2eeca2-6069-4061-9f5f-41c1caf1fac4"
      },
      "cell_type": "code",
      "source": [
        "if my_list[2]==\"yes\":\n",
        "    print(\"I have previous programming experience\")\n",
        "else:\n",
        "    print(\"I do not have previous programming experience\")"
      ],
      "execution_count": 59,
      "outputs": [
        {
          "output_type": "stream",
          "name": "stdout",
          "text": [
            "I do not have previous programming experience\n"
          ]
        }
      ]
    },
    {
      "metadata": {
        "id": "IBhCrzSmvLIC"
      },
      "cell_type": "markdown",
      "source": [
        "**Q: Add your favorite single digit number to the end of the list using the appropriate list method.**"
      ]
    },
    {
      "metadata": {
        "trusted": true,
        "id": "mknB7HzavLIC",
        "colab": {
          "base_uri": "https://localhost:8080/"
        },
        "outputId": "e3190458-2849-4023-dfa6-6563168ef563"
      },
      "cell_type": "code",
      "source": [
        "my_list=[1,2,3,4,]\n",
        "my_list.append(10)\n",
        "print(my_list)"
      ],
      "execution_count": 70,
      "outputs": [
        {
          "output_type": "stream",
          "name": "stdout",
          "text": [
            "[1, 2, 3, 4, 10]\n"
          ]
        }
      ]
    },
    {
      "metadata": {
        "id": "8i7A_tYAvLIC"
      },
      "cell_type": "markdown",
      "source": [
        "Let's see if the number shows up in the list."
      ]
    },
    {
      "metadata": {
        "trusted": true,
        "id": "IOWnzL2vvLIC",
        "colab": {
          "base_uri": "https://localhost:8080/"
        },
        "outputId": "385ee17a-c670-4986-f7c9-d8738aab7f56"
      },
      "cell_type": "code",
      "source": [
        "my_list=[1,2,3,4]\n",
        "print(my_list[0])"
      ],
      "execution_count": 74,
      "outputs": [
        {
          "output_type": "stream",
          "name": "stdout",
          "text": [
            "1\n"
          ]
        }
      ]
    },
    {
      "metadata": {
        "id": "SWHbz8oNvLIC"
      },
      "cell_type": "markdown",
      "source": [
        "**Q: Remove the first element of the list, using the appropriate list method.**\n",
        "\n",
        "*Hint*: Check out methods of list here: https://www.w3schools.com/python/python_ref_list.asp"
      ]
    },
    {
      "metadata": {
        "trusted": true,
        "id": "ym4Y8jKgvLIC",
        "colab": {
          "base_uri": "https://localhost:8080/"
        },
        "outputId": "8c55bf49-6b59-4274-cb8f-b0eded68298e"
      },
      "cell_type": "code",
      "source": [
        "my_list=[1,2,3]\n",
        "my_list.remove(1)\n",
        "print(my_list)"
      ],
      "execution_count": 75,
      "outputs": [
        {
          "output_type": "stream",
          "name": "stdout",
          "text": [
            "[2, 3]\n"
          ]
        }
      ]
    },
    {
      "metadata": {
        "trusted": true,
        "id": "jySrd216vLIC",
        "colab": {
          "base_uri": "https://localhost:8080/"
        },
        "outputId": "fe2c606b-e147-4fb7-d83f-9611c1f67291"
      },
      "cell_type": "code",
      "source": [
        "my_list=[1,2,3]\n",
        "my_list.pop(0)\n",
        "print(my_list)"
      ],
      "execution_count": 81,
      "outputs": [
        {
          "output_type": "stream",
          "name": "stdout",
          "text": [
            "[2, 3]\n"
          ]
        }
      ]
    },
    {
      "cell_type": "markdown",
      "source": [],
      "metadata": {
        "id": "tGnfZtOASS6s"
      }
    },
    {
      "metadata": {
        "id": "PoUaBIy6vLIC"
      },
      "cell_type": "markdown",
      "source": [
        "**Q: Complete the `print` statement below to display the number of elements in `my_list`.**"
      ]
    },
    {
      "metadata": {
        "trusted": true,
        "id": "dNKqXe-OvLIC",
        "colab": {
          "base_uri": "https://localhost:8080/"
        },
        "outputId": "0d51cb53-2630-420b-e0b3-8c14445ef25e"
      },
      "cell_type": "code",
      "source": [
        "my_list={1,2,3,4,5}\n",
        "print(len(my_list))"
      ],
      "execution_count": 80,
      "outputs": [
        {
          "output_type": "stream",
          "name": "stdout",
          "text": [
            "5\n"
          ]
        }
      ]
    },
    {
      "metadata": {
        "id": "zxabeFFzvLIH"
      },
      "cell_type": "markdown",
      "source": [
        "## Conditions and loops\n",
        "\n",
        "**Q: Calculate and display the sum of all the numbers divisible by 7 between 18 and 534 i.e. `21+28+35+...+525+532`**.\n",
        "\n",
        "*Hint*: One way to do this is to loop over a `range` using `for` and use an `if` statement inside it."
      ]
    },
    {
      "metadata": {
        "trusted": true,
        "id": "xBYbCDgqvLIH",
        "colab": {
          "base_uri": "https://localhost:8080/"
        },
        "outputId": "8f83c2ed-dfb0-484d-9392-44210ed33926"
      },
      "cell_type": "code",
      "source": [
        "sum_of_numbers=sum(i for i in range(18,534) if i%7==0)\n",
        "print(sum_of_numbers)\n"
      ],
      "execution_count": 100,
      "outputs": [
        {
          "output_type": "stream",
          "name": "stdout",
          "text": [
            "20461\n"
          ]
        }
      ]
    },
    {
      "metadata": {
        "trusted": true,
        "id": "ia99bHJhvLIH",
        "colab": {
          "base_uri": "https://localhost:8080/"
        },
        "outputId": "90e6f7c1-4abc-4734-d87d-6eb730e1c83f"
      },
      "cell_type": "code",
      "source": [
        "print('The sum of all the numbers divisible by 7 between 18 and 534 is', sum_of_numbers)"
      ],
      "execution_count": 101,
      "outputs": [
        {
          "output_type": "stream",
          "name": "stdout",
          "text": [
            "The sum of all the numbers divisible by 7 between 18 and 534 is 20461\n"
          ]
        }
      ]
    },
    {
      "cell_type": "markdown",
      "source": [
        "## Lists"
      ],
      "metadata": {
        "id": "4ViBWsq_CJR4"
      }
    },
    {
      "cell_type": "markdown",
      "source": [
        "Q1: Write a Python program that takes a list of integers as input and performs the following operations:\n",
        "\n",
        "Remove all duplicates from the list.\n",
        "\n",
        "Sort the list in descending order.\n",
        "\n",
        "Print the second largest number from the list."
      ],
      "metadata": {
        "id": "rGHhWCZKCLld"
      }
    },
    {
      "metadata": {
        "trusted": true,
        "id": "SZ82tPFVvLIL",
        "colab": {
          "base_uri": "https://localhost:8080/"
        },
        "outputId": "5456613b-fdc3-43aa-c5b3-159e83e55f97"
      },
      "cell_type": "code",
      "source": [
        "my_list=[1,2,3,1,5,4,8,9,10,10]\n",
        "unique_list=list(set(my_list))\n",
        "print(unique_list)\n",
        "my_list.sort(reverse=True)\n",
        "print(my_list)\n",
        "if len(unique_list)>1:\n",
        "  print(\"second largest number:\",unique_list[1])\n",
        "else:\n",
        "  print(\"there is no second largest number\")"
      ],
      "execution_count": 109,
      "outputs": [
        {
          "output_type": "stream",
          "name": "stdout",
          "text": [
            "[1, 2, 3, 4, 5, 8, 9, 10]\n",
            "[10, 10, 9, 8, 5, 4, 3, 2, 1, 1]\n",
            "second largest number: 2\n"
          ]
        }
      ]
    },
    {
      "cell_type": "markdown",
      "source": [
        "## Dictionary"
      ],
      "metadata": {
        "id": "XQEcpkFdCavt"
      }
    },
    {
      "cell_type": "markdown",
      "source": [
        "Q2: Create a dictionary from two lists, one containing student names and the other containing their scores. Then, write a program to:\n",
        "\n",
        "Print the dictionary.\n",
        "\n",
        "Find the student with the highest score.\n",
        "\n",
        "Add a new student with a given score to the dictionary."
      ],
      "metadata": {
        "id": "sHTYSJczCTGB"
      }
    },
    {
      "cell_type": "code",
      "source": [
        "students ={\"vinnu\",\"hemanth\",\"mallesh\",\"uday\"}\n",
        "scores={\"99\",\"85\",\"92\",\"50\"}\n",
        "student_scores=dict(zip(students,scores))\n",
        "print(student_scores)\n",
        "highest_score=max(student_scores.values())\n",
        "print(highest_score)"
      ],
      "metadata": {
        "id": "1j5QxWp-CaPV",
        "colab": {
          "base_uri": "https://localhost:8080/"
        },
        "outputId": "e8c03418-b2d5-4d4f-d5a4-4a8407d1f014"
      },
      "execution_count": 113,
      "outputs": [
        {
          "output_type": "stream",
          "name": "stdout",
          "text": [
            "{'vinnu': '85', 'mallesh': '99', 'hemanth': '92', 'uday': '50'}\n",
            "99\n"
          ]
        }
      ]
    },
    {
      "cell_type": "markdown",
      "source": [
        "#Tuple"
      ],
      "metadata": {
        "id": "2hyaanCNCiIi"
      }
    },
    {
      "cell_type": "markdown",
      "source": [
        "3: Write a Python program to create a tuple from a list of integers. Then:\n",
        "\n",
        "Find the minimum, maximum, and sum of the elements in the tuple.\n",
        "\n",
        "Convert the tuple into a string and print it."
      ],
      "metadata": {
        "id": "JXCvRY60CdIC"
      }
    },
    {
      "cell_type": "code",
      "source": [
        "number=(10,20,30,40,50,60)\n",
        "min_number=min(number)\n",
        "max_number=max(number)\n",
        "sum_number=sum(number)\n",
        "print(min_number,max_number,sum_number)"
      ],
      "metadata": {
        "id": "DuJ7X4WECjob",
        "colab": {
          "base_uri": "https://localhost:8080/"
        },
        "outputId": "c79808dd-a2b3-4f26-8827-4d819db184de"
      },
      "execution_count": 114,
      "outputs": [
        {
          "output_type": "stream",
          "name": "stdout",
          "text": [
            "10 60 210\n"
          ]
        }
      ]
    },
    {
      "cell_type": "markdown",
      "source": [
        "##Numpy"
      ],
      "metadata": {
        "id": "1kYvyW6XCzeq"
      }
    },
    {
      "cell_type": "markdown",
      "source": [
        "\n",
        "Q4: Using the NumPy library:\n",
        "\n",
        "Create a 3x3 matrix filled with random integers between 1 and 20.\n",
        "\n",
        "Replace all values greater than 10 with 0.\n",
        "\n",
        "Find the mean of the modified matrix."
      ],
      "metadata": {
        "id": "OPqNJ7fyCkAA"
      }
    },
    {
      "cell_type": "code",
      "source": [
        "import numpy as np\n",
        "matrix=np.random.randint(1,20,(3,3))\n",
        "print(matrix)\n",
        "matrix[matrix>10]=0\n",
        "print(matrix)\n",
        "mean_value=np.mean(matrix)\n",
        "print(mean_value)"
      ],
      "metadata": {
        "id": "nYOz4En9CxGp",
        "colab": {
          "base_uri": "https://localhost:8080/"
        },
        "outputId": "9a4b2ee8-a2a7-4f78-b5b9-5cdc8fcbb9ca"
      },
      "execution_count": 115,
      "outputs": [
        {
          "output_type": "stream",
          "name": "stdout",
          "text": [
            "[[12  9  6]\n",
            " [12 11  2]\n",
            " [12 12 10]]\n",
            "[[ 0  9  6]\n",
            " [ 0  0  2]\n",
            " [ 0  0 10]]\n",
            "3.0\n"
          ]
        }
      ]
    },
    {
      "cell_type": "markdown",
      "source": [
        "## Pandas"
      ],
      "metadata": {
        "id": "8Z0UcbZXC1U0"
      }
    },
    {
      "cell_type": "markdown",
      "source": [
        "Q5: Using the Pandas library:\n",
        "\n",
        "Create a DataFrame from a dictionary where the keys are column names, and the values are lists representing data for each column.\n",
        "\n",
        "Add a new column to the DataFrame by calculating the difference between two existing columns.\n",
        "\n",
        "Drop any rows where the value in a specific column is less than 50."
      ],
      "metadata": {
        "id": "abiz20V4C1RS"
      }
    },
    {
      "cell_type": "code",
      "source": [
        "import pandas as pd\n",
        "date={'A':[1,2,3,4,5],'B':[10,20,30,40,50],'C':[100,200,300,400,500]}\n",
        "df=pd.DataFrame(date)\n",
        "df['Difference']=df['A']-df['B']\n",
        "df=df[df['A']>50]\n",
        "print(df)"
      ],
      "metadata": {
        "colab": {
          "base_uri": "https://localhost:8080/"
        },
        "id": "rgTjS1b1bXgK",
        "outputId": "10db4428-ea54-4235-e9a9-47d96eb96b2d"
      },
      "execution_count": 126,
      "outputs": [
        {
          "output_type": "stream",
          "name": "stdout",
          "text": [
            "Empty DataFrame\n",
            "Columns: [A, B, C, Difference]\n",
            "Index: []\n"
          ]
        }
      ]
    },
    {
      "cell_type": "code",
      "source": [],
      "metadata": {
        "id": "ah5WJvzDC7iK"
      },
      "execution_count": null,
      "outputs": []
    },
    {
      "cell_type": "markdown",
      "source": [
        "##Exception Handling"
      ],
      "metadata": {
        "id": "VF5MTuC7C_94"
      }
    },
    {
      "cell_type": "markdown",
      "source": [
        "\n",
        "Q6: Write a Python program to perform division of two user-input numbers. Implement exception handling to:\n",
        "\n",
        "Catch the division by zero error.\n",
        "\n",
        "Catch invalid input type errors (e.g., if the user enters a string instead of a number).\n",
        "\n",
        "Ensure the program runs successfully even if an error occurs. (Hint: Add finally)"
      ],
      "metadata": {
        "id": "vLTDuZGuC_3d"
      }
    },
    {
      "cell_type": "code",
      "source": [
        "try:\n",
        "    num1 = float(input(\"Enter first number: \"))\n",
        "    num2 = float(input(\"Enter second number: \"))\n",
        "    result = num1 / num2\n",
        "    print(\"Result:\", result)\n",
        "except ZeroDivisionError:\n",
        "    print(\"Error: Division by zero is not allowed.\")\n",
        "except ValueError:\n",
        "    print(\"Error: Invalid input. Please enter numeric values.\")\n",
        "finally:\n",
        "    print(\"Program execution completed.\")"
      ],
      "metadata": {
        "id": "ktyOho_2DHyP",
        "colab": {
          "base_uri": "https://localhost:8080/"
        },
        "outputId": "2cb757d9-decf-4b14-866c-9879436569cb"
      },
      "execution_count": 128,
      "outputs": [
        {
          "output_type": "stream",
          "name": "stdout",
          "text": [
            "Enter first number: 2.5\n",
            "Enter second number: 10\n",
            "Result: 0.25\n",
            "Program execution completed.\n"
          ]
        }
      ]
    },
    {
      "cell_type": "markdown",
      "source": [
        "## Matplotlib"
      ],
      "metadata": {
        "id": "rNyZu1w9DeTz"
      }
    },
    {
      "cell_type": "markdown",
      "source": [
        "\n",
        "Q7: Create a line chart using the Matplotlib library to display the population growth over years. The program should:\n",
        "\n",
        "Create dummy data: containing years and population values.\n",
        "\n",
        "Plot the line chart with proper labels for the x-axis, y-axis, and a title."
      ],
      "metadata": {
        "id": "Udg5GavODMuT"
      }
    },
    {
      "cell_type": "code",
      "source": [
        "import matplotlib.pyplot as plt\n",
        "years = [2000, 2003, 2004, 2005, 2006, 2007]\n",
        "population = [2.5, 2.8, 3.2, 3.6, 4.1, 4.5]\n",
        "plt.plot(years, population, marker='*', linestyle='-', color='r')\n",
        "plt.xlabel(\"Year\")\n",
        "plt.ylabel(\"Population (in billions)\")\n",
        "plt.title(\"Population Growth Over Years\")\n",
        "plt.show()"
      ],
      "metadata": {
        "id": "k6nTd1wRDdUg",
        "colab": {
          "base_uri": "https://localhost:8080/",
          "height": 472
        },
        "outputId": "27aa66a7-7036-42cb-aa65-21a38e0862d0"
      },
      "execution_count": 135,
      "outputs": [
        {
          "output_type": "display_data",
          "data": {
            "text/plain": [
              "<Figure size 640x480 with 1 Axes>"
            ],
            "image/png": "[encoded data removed]"
          },
          "metadata": {}
        }
      ]
    },
    {
      "cell_type": "markdown",
      "source": [
        "## Seaborn"
      ],
      "metadata": {
        "id": "_W9lJpzZDxNF"
      }
    },
    {
      "cell_type": "markdown",
      "source": [
        "\n",
        "Q8: Using the Seaborn library, plot a distribution of the sepal_length column from the Iris dataset. The program should:\n",
        "\n",
        "Load the 'iris' dataset from Seaborn's sample datasets.\n",
        "Plot a KDE (Kernel Density Estimation) plot for the sepal_length column.\n",
        "Customize the plot with a title and set the color of the plot to blue.\n"
      ],
      "metadata": {
        "id": "hM12mAgqDyId"
      }
    },
    {
      "cell_type": "code",
      "source": [
        "import seaborn as sns\n",
        "import matplotlib.pyplot as plt\n",
        "iris = sns.load_dataset(\"iris\")\n",
        "sns.kdeplot(iris[\"sepal_length\"], color=\"blue\", shade=True)\n",
        "plt.title(\"Distribution of Sepal Length in Iris Dataset\")\n",
        "plt.xlabel(\"Sepal Length\")\n",
        "plt.ylabel(\"Density\")\n",
        "plt.show()"
      ],
      "metadata": {
        "id": "3CYknAGGDzpK",
        "colab": {
          "base_uri": "https://localhost:8080/",
          "height": 581
        },
        "outputId": "c272c56f-1190-4fa5-c6eb-a867c0a86a3d"
      },
      "execution_count": 136,
      "outputs": [
        {
          "output_type": "stream",
          "name": "stderr",
          "text": [
            "<ipython-input-136-e3396e254994>:4: FutureWarning: \n",
            "\n",
            "`shade` is now deprecated in favor of `fill`; setting `fill=True`.\n",
            "This will become an error in seaborn v0.14.0; please update your code.\n",
            "\n",
            "  sns.kdeplot(iris[\"sepal_length\"], color=\"blue\", shade=True)\n"
          ]
        },
        {
          "output_type": "display_data",
          "data": {
            "text/plain": [
              "<Figure size 640x480 with 1 Axes>"
            ],
            "image/png": "[encoded data removed]"
          },
          "metadata": {}
        }
      ]
    },
    {
      "cell_type": "markdown",
      "source": [
        "## Pandas DataFrame"
      ],
      "metadata": {
        "id": "fFTydMAXD-cD"
      }
    },
    {
      "cell_type": "markdown",
      "source": [
        "\n",
        "Q9: Write a Python program to perform the following operations on the Iris dataset:\n",
        "\n",
        "Load the dataset into a Pandas DataFrame.\n",
        "\n",
        "Display the first 10 rows of the DataFrame.\n",
        "\n",
        "Group the data by the species column and calculate the mean of each numeric column for each species.\n",
        "\n",
        "Add a new column sepal_area that is the product of sepal_length and sepal_width.\n",
        "\n",
        "Filter the DataFrame to show only rows where sepal_area is greater than 20."
      ],
      "metadata": {
        "id": "nZSrcAuuD-Yt"
      }
    },
    {
      "cell_type": "code",
      "source": [
        "import pandas as pd\n",
        "import seaborn as sns\n",
        "iris = sns.load_dataset(\"iris\")\n",
        "print(\"First 10 rows of the DataFrame:\")\n",
        "print(\"First 10 rows of the DataFrame:\")\n",
        "print(iris.head(10))\n",
        "grouped_mean = iris.groupby(\"species\").mean()\n",
        "print(\"\\nMean of numeric columns grouped by species:\")\n",
        "print(grouped_mean)\n",
        "iris[\"sepal_area\"] = iris[\"sepal_length\"] * iris[\"sepal_width\"]\n",
        "filtered_iris = iris[iris[\"sepal_area\"] > 20]\n",
        "print(\"\\nFiltered DataFrame with sepal_area > 20:\")\n",
        "print(filtered_iris)\n"
      ],
      "metadata": {
        "id": "vWpR1ZA1EE5v",
        "colab": {
          "base_uri": "https://localhost:8080/"
        },
        "outputId": "2462c81a-5c45-461c-e941-e15875cb1334"
      },
      "execution_count": 137,
      "outputs": [
        {
          "output_type": "stream",
          "name": "stdout",
          "text": [
            "First 10 rows of the DataFrame:\n",
            "First 10 rows of the DataFrame:\n",
            "   sepal_length  sepal_width  petal_length  petal_width species\n",
            "0           5.1          3.5           1.4          0.2  setosa\n",
            "1           4.9          3.0           1.4          0.2  setosa\n",
            "2           4.7          3.2           1.3          0.2  setosa\n",
            "3           4.6          3.1           1.5          0.2  setosa\n",
            "4           5.0          3.6           1.4          0.2  setosa\n",
            "5           5.4          3.9           1.7          0.4  setosa\n",
            "6           4.6          3.4           1.4          0.3  setosa\n",
            "7           5.0          3.4           1.5          0.2  setosa\n",
            "8           4.4          2.9           1.4          0.2  setosa\n",
            "9           4.9          3.1           1.5          0.1  setosa\n",
            "\n",
            "Mean of numeric columns grouped by species:\n",
            "            sepal_length  sepal_width  petal_length  petal_width\n",
            "species                                                         \n",
            "setosa             5.006        3.428         1.462        0.246\n",
            "versicolor         5.936        2.770         4.260        1.326\n",
            "virginica          6.588        2.974         5.552        2.026\n",
            "\n",
            "Filtered DataFrame with sepal_area > 20:\n",
            "     sepal_length  sepal_width  petal_length  petal_width     species  \\\n",
            "5             5.4          3.9           1.7          0.4      setosa   \n",
            "14            5.8          4.0           1.2          0.2      setosa   \n",
            "15            5.7          4.4           1.5          0.4      setosa   \n",
            "16            5.4          3.9           1.3          0.4      setosa   \n",
            "18            5.7          3.8           1.7          0.3      setosa   \n",
            "32            5.2          4.1           1.5          0.1      setosa   \n",
            "33            5.5          4.2           1.4          0.2      setosa   \n",
            "50            7.0          3.2           4.7          1.4  versicolor   \n",
            "51            6.4          3.2           4.5          1.5  versicolor   \n",
            "52            6.9          3.1           4.9          1.5  versicolor   \n",
            "56            6.3          3.3           4.7          1.6  versicolor   \n",
            "65            6.7          3.1           4.4          1.4  versicolor   \n",
            "77            6.7          3.0           5.0          1.7  versicolor   \n",
            "85            6.0          3.4           4.5          1.6  versicolor   \n",
            "86            6.7          3.1           4.7          1.5  versicolor   \n",
            "100           6.3          3.3           6.0          2.5   virginica   \n",
            "102           7.1          3.0           5.9          2.1   virginica   \n",
            "105           7.6          3.0           6.6          2.1   virginica   \n",
            "107           7.3          2.9           6.3          1.8   virginica   \n",
            "109           7.2          3.6           6.1          2.5   virginica   \n",
            "110           6.5          3.2           5.1          2.0   virginica   \n",
            "112           6.8          3.0           5.5          2.1   virginica   \n",
            "115           6.4          3.2           5.3          2.3   virginica   \n",
            "117           7.7          3.8           6.7          2.2   virginica   \n",
            "118           7.7          2.6           6.9          2.3   virginica   \n",
            "120           6.9          3.2           5.7          2.3   virginica   \n",
            "122           7.7          2.8           6.7          2.0   virginica   \n",
            "124           6.7          3.3           5.7          2.1   virginica   \n",
            "125           7.2          3.2           6.0          1.8   virginica   \n",
            "129           7.2          3.0           5.8          1.6   virginica   \n",
            "130           7.4          2.8           6.1          1.9   virginica   \n",
            "131           7.9          3.8           6.4          2.0   virginica   \n",
            "135           7.7          3.0           6.1          2.3   virginica   \n",
            "136           6.3          3.4           5.6          2.4   virginica   \n",
            "139           6.9          3.1           5.4          2.1   virginica   \n",
            "140           6.7          3.1           5.6          2.4   virginica   \n",
            "141           6.9          3.1           5.1          2.3   virginica   \n",
            "143           6.8          3.2           5.9          2.3   virginica   \n",
            "144           6.7          3.3           5.7          2.5   virginica   \n",
            "145           6.7          3.0           5.2          2.3   virginica   \n",
            "148           6.2          3.4           5.4          2.3   virginica   \n",
            "\n",
            "     sepal_area  \n",
            "5         21.06  \n",
            "14        23.20  \n",
            "15        25.08  \n",
            "16        21.06  \n",
            "18        21.66  \n",
            "32        21.32  \n",
            "33        23.10  \n",
            "50        22.40  \n",
            "51        20.48  \n",
            "52        21.39  \n",
            "56        20.79  \n",
            "65        20.77  \n",
            "77        20.10  \n",
            "85        20.40  \n",
            "86        20.77  \n",
            "100       20.79  \n",
            "102       21.30  \n",
            "105       22.80  \n",
            "107       21.17  \n",
            "109       25.92  \n",
            "110       20.80  \n",
            "112       20.40  \n",
            "115       20.48  \n",
            "117       29.26  \n",
            "118       20.02  \n",
            "120       22.08  \n",
            "122       21.56  \n",
            "124       22.11  \n",
            "125       23.04  \n",
            "129       21.60  \n",
            "130       20.72  \n",
            "131       30.02  \n",
            "135       23.10  \n",
            "136       21.42  \n",
            "139       21.39  \n",
            "140       20.77  \n",
            "141       21.39  \n",
            "143       21.76  \n",
            "144       22.11  \n",
            "145       20.10  \n",
            "148       21.08  \n"
          ]
        }
      ]
    },
    {
      "cell_type": "markdown",
      "source": [
        "## Functions"
      ],
      "metadata": {
        "id": "boirWrgRElAS"
      }
    },
    {
      "cell_type": "markdown",
      "source": [
        "Q10: Write a Python program that defines a function to calculate the Body Mass Index (BMI) based on a person's weight and height. The program should:\n",
        "\n",
        "Define a function calculate_bmi(weight, height) that takes the weight (in kilograms) and height (in meters) as arguments and returns the BMI.\n",
        "\n",
        "BMI = weight/(height**2)\n",
        "\n",
        "Use the function to calculate the BMI for a given weight and height input by the user.\n",
        "\n",
        "Define another function bmi_category(bmi) that takes the BMI as input and returns the BMI category:\n",
        "\n",
        "\"Underweight\" if BMI < 18.5\n",
        "\n",
        "\"Normal weight\" if 18.5 <= BMI < 24.9\n",
        "\n",
        "\"Overweight\" if 25 <= BMI < 29.9\n",
        "\n",
        "\"Obese\" if BMI >= 30\n",
        "\n",
        "(Hint; use if elif else multiple conditions)\n",
        "\n",
        "Print the calculated BMI and the corresponding category."
      ],
      "metadata": {
        "id": "Ve2MS7VKEk9C"
      }
    },
    {
      "cell_type": "markdown",
      "source": [
        "## OOPS"
      ],
      "metadata": {
        "id": "H9q9BWZ6Li8D"
      }
    },
    {
      "cell_type": "markdown",
      "source": [
        "Problem #1: Complete the code below to calcualte volume and surface area of a cylinder"
      ],
      "metadata": {
        "id": "lGs0H00rL3RD"
      }
    },
    {
      "cell_type": "code",
      "source": [],
      "metadata": {
        "id": "vk_rMP-8E31G"
      },
      "execution_count": 182,
      "outputs": []
    },
    {
      "cell_type": "code",
      "source": [
        "# EXAMPLE OUTPUT\n",
        "cyl = Cylinder(2,3)"
      ],
      "metadata": {
        "id": "rUZwaNMmMCF5"
      },
      "execution_count": 162,
      "outputs": []
    },
    {
      "cell_type": "code",
      "source": [],
      "metadata": {
        "id": "wQSeJ9wQMENx"
      },
      "execution_count": 182,
      "outputs": []
    },
    {
      "cell_type": "code",
      "source": [],
      "metadata": {
        "id": "94_3vbW3MGJN"
      },
      "execution_count": 182,
      "outputs": []
    },
    {
      "cell_type": "markdown",
      "source": [
        "Problem #2:\n",
        "\n",
        "- Create a bank account class that has two attributes:\n",
        "\n",
        "   - owner\n",
        "   - balance\n",
        "   \n",
        "- and two methods:\n",
        "\n",
        "   - deposit\n",
        "   - withdraw\n",
        "\n",
        "Instantiate your class, make several deposits and withdrawals, and test to make sure the account can't be overdrawn."
      ],
      "metadata": {
        "id": "VjUSspmUXvf8"
      }
    },
    {
      "cell_type": "markdown",
      "source": [
        "## Decorators"
      ],
      "metadata": {
        "id": "VKDEFWpOYc5l"
      }
    },
    {
      "cell_type": "markdown",
      "source": [
        "1. Write a Python program to create a decorator function to measure the execution time of a function.\n",
        "\n"
      ],
      "metadata": {
        "id": "SCtuWz6WZpDr"
      }
    },
    {
      "cell_type": "code",
      "source": [
        "import time\n",
        "\n",
        "def timer_decorator(func):\n",
        "    def wrapper(*args, **kwargs):\n",
        "        start_time = time.time()\n",
        "        result = func(*args, **kwargs)\n",
        "        end_time = time.time()\n",
        "        print(f\"Execution time of {func._name_}: {end_time - start_time:.6f} seconds\")\n",
        "        return result\n",
        "    return wrapper\n",
        "def example_function(n):\n",
        "    sum = 0\n",
        "    for i in range(n):\n",
        "        sum += i\n",
        "    return sum\n",
        "\n",
        "example_function(1000000)"
      ],
      "metadata": {
        "id": "PbDSUEznYFG7",
        "colab": {
          "base_uri": "https://localhost:8080/"
        },
        "outputId": "7134c09a-5921-4105-febb-4b42157cc2dd"
      },
      "execution_count": 178,
      "outputs": [
        {
          "output_type": "execute_result",
          "data": {
            "text/plain": [
              "499999500000"
            ]
          },
          "metadata": {},
          "execution_count": 178
        }
      ]
    }
  ],
  "metadata": {
    "kernelspec": {
      "language": "python",
      "display_name": "Python 3",
      "name": "python3"
    },
    "language_info": {
      "pygments_lexer": "ipython3",
      "nbconvert_exporter": "python",
      "version": "3.6.4",
      "file_extension": ".py",
      "codemirror_mode": {
        "name": "ipython",
        "version": 3
      },
      "name": "python",
      "mimetype": "text/x-python"
    },
    "colab": {
      "provenance": [],
      "include_colab_link": true
    }
  },
  "nbformat": 4,
  "nbformat_minor": 0
}